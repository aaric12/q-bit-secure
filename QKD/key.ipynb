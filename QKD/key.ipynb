{
 "cells": [
  {
   "cell_type": "code",
   "execution_count": null,
   "metadata": {},
   "outputs": [],
   "source": [
    "import numpy as np\n",
    "from qiskit import QuantumCircuit\n",
    "from qiskit_aer import AerSimulator  \n",
    "import random\n"
   ]
  },
  {
   "cell_type": "markdown",
   "metadata": {},
   "source": [
    "Generates n random bits (0 or 1) and n random bases (Z-basis or X-basis)."
   ]
  },
  {
   "cell_type": "code",
   "execution_count": 11,
   "metadata": {},
   "outputs": [],
   "source": [
    "def generate_random_bits_and_bases(n):\n",
    "\n",
    "    bits = np.random.randint(2, size=n)  # Random 0s and 1s\n",
    "    bases = np.random.randint(2, size=n)  # Random bases: 0 for Z, 1 for X\n",
    "    return bits, bases\n"
   ]
  },
  {
   "cell_type": "markdown",
   "metadata": {},
   "source": [
    "    Encodes Alice's bits into qubits based on chosen bases.\n"
   ]
  },
  {
   "cell_type": "code",
   "execution_count": 10,
   "metadata": {},
   "outputs": [],
   "source": [
    "def encode_qubits(bits, bases):\n",
    "\n",
    "    qubits = []\n",
    "    \n",
    "    for bit, basis in zip(bits, bases):\n",
    "        qc = QuantumCircuit(1, 1) \n",
    "        \n",
    "        if bit == 1:\n",
    "            qc.x(0) \n",
    "        \n",
    "        if basis == 1:\n",
    "            qc.h(0)  \n",
    "        \n",
    "        qubits.append(qc) \n",
    "    \n",
    "    return qubits\n"
   ]
  },
  {
   "cell_type": "markdown",
   "metadata": {},
   "source": [
    "    Simulates quantum transmission and measures qubits in Bob's chosen bases.\n"
   ]
  },
  {
   "cell_type": "code",
   "execution_count": 9,
   "metadata": {},
   "outputs": [],
   "source": [
    "def measure_qubits(qubits, bases, backend):\n",
    "\n",
    "    measured_bits = []\n",
    "    \n",
    "    for qc, basis in zip(qubits, bases):\n",
    "        if basis == 1:\n",
    "            qc.h(0)  \n",
    "        \n",
    "        qc.measure(0, 0) \n",
    "        job = backend.run(qc, shots=1)  \n",
    "        result = job.result()\n",
    "        counts = result.get_counts()\n",
    "        measured_bit = int(list(counts.keys())[0]) \n",
    "        measured_bits.append(measured_bit)\n",
    "    \n",
    "    return measured_bits\n"
   ]
  },
  {
   "cell_type": "markdown",
   "metadata": {},
   "source": [
    "    Keeps only the bits where Alice and Bob used the same basis.\n"
   ]
  },
  {
   "cell_type": "code",
   "execution_count": null,
   "metadata": {},
   "outputs": [],
   "source": [
    "def sift_key(alice_bits, alice_bases, bob_bits, bob_bases):\n",
    "\n",
    "    key = []\n",
    "    \n",
    "    for i in range(len(alice_bits)):\n",
    "        if alice_bases[i] == bob_bases[i]: \n",
    "            key.append(alice_bits[i])\n",
    "    \n",
    "    return key\n"
   ]
  },
  {
   "cell_type": "markdown",
   "metadata": {},
   "source": [
    "    Runs the complete BB84 protocol.\n"
   ]
  },
  {
   "cell_type": "code",
   "execution_count": 8,
   "metadata": {},
   "outputs": [],
   "source": [
    "def bb84_protocol(n, backend):\n",
    "\n",
    "    # Alice generates bits and bases\n",
    "    alice_bits, alice_bases = generate_random_bits_and_bases(n)\n",
    "    \n",
    "    # Alice encodes and sends qubits\n",
    "    qubits = encode_qubits(alice_bits, alice_bases)\n",
    "    \n",
    "    # Bob chooses bases randomly\n",
    "    _, bob_bases = generate_random_bits_and_bases(n)\n",
    "    \n",
    "    # Bob measures qubits\n",
    "    bob_bits = measure_qubits(qubits, bob_bases, backend)\n",
    "    \n",
    "    # Key sifting: Only keep bits where bases match\n",
    "    final_key = sift_key(alice_bits, alice_bases, bob_bits, bob_bases)\n",
    "    \n",
    "    # Print results\n",
    "    print(\"Alice's Bits:   \", alice_bits)\n",
    "    print(\"Alice's Bases:  \", alice_bases)\n",
    "    print(\"Bob's Bases:    \", bob_bases)\n",
    "    print(\"Bob's Measured Bits:\", bob_bits)\n",
    "    print(\"Final Shared Key: \", final_key)\n",
    "    \n",
    "    return final_key\n"
   ]
  },
  {
   "cell_type": "code",
   "execution_count": null,
   "metadata": {},
   "outputs": [],
   "source": [
    "backend = AerSimulator()  # Quantum Simulator\n",
    "n_qubits = 10  \n",
    "shared_key = bb84_protocol(n_qubits, backend)\n"
   ]
  }
 ],
 "metadata": {
  "kernelspec": {
   "display_name": "myenv",
   "language": "python",
   "name": "python3"
  },
  "language_info": {
   "codemirror_mode": {
    "name": "ipython",
    "version": 3
   },
   "file_extension": ".py",
   "mimetype": "text/x-python",
   "name": "python",
   "nbconvert_exporter": "python",
   "pygments_lexer": "ipython3",
   "version": "3.13.2"
  }
 },
 "nbformat": 4,
 "nbformat_minor": 2
}
